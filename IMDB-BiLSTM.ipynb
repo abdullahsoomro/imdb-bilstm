{
  "nbformat": 4,
  "nbformat_minor": 0,
  "metadata": {
    "kernelspec": {
      "display_name": "Python 3",
      "language": "python",
      "name": "python3"
    },
    "language_info": {
      "codemirror_mode": {
        "name": "ipython",
        "version": 3
      },
      "file_extension": ".py",
      "mimetype": "text/x-python",
      "name": "python",
      "nbconvert_exporter": "python",
      "pygments_lexer": "ipython3",
      "version": "3.8.6rc1"
    },
    "colab": {
      "name": "english_deep_learning.ipynb",
      "provenance": []
    }
  },
  "cells": [
    {
      "cell_type": "code",
      "metadata": {
        "id": "GpAJkFf1-GAc"
      },
      "source": [
        "# import libraries\n",
        " \n",
        "import pandas as pd\n",
        "import matplotlib.pyplot as plt\n",
        "import numpy as np\n",
        "from keras.preprocessing.text import Tokenizer\n",
        "from keras.preprocessing.sequence import pad_sequences\n",
        "from sklearn.model_selection import train_test_split\n",
        "from keras.models import Sequential\n",
        "from keras.layers import Embedding, Flatten, Dense\n",
        "from keras.preprocessing.text import Tokenizer\n",
        "from keras.preprocessing.sequence import pad_sequences"
      ],
      "execution_count": 25,
      "outputs": []
    },
    {
      "cell_type": "code",
      "metadata": {
        "id": "SVmbm6TD-GAl",
        "colab": {
          "base_uri": "https://localhost:8080/",
          "height": 204
        },
        "outputId": "ade04b71-c26d-4fb5-e4a3-f0ae52b06b86"
      },
      "source": [
        "\n",
        "train_df = pd.read_csv('/content/drive/MyDrive/Colab Notebooks/Contrastive Learning/IMDB Dataset english.csv')\n",
        "train_df.head()"
      ],
      "execution_count": 26,
      "outputs": [
        {
          "output_type": "execute_result",
          "data": {
            "text/html": [
              "<div>\n",
              "<style scoped>\n",
              "    .dataframe tbody tr th:only-of-type {\n",
              "        vertical-align: middle;\n",
              "    }\n",
              "\n",
              "    .dataframe tbody tr th {\n",
              "        vertical-align: top;\n",
              "    }\n",
              "\n",
              "    .dataframe thead th {\n",
              "        text-align: right;\n",
              "    }\n",
              "</style>\n",
              "<table border=\"1\" class=\"dataframe\">\n",
              "  <thead>\n",
              "    <tr style=\"text-align: right;\">\n",
              "      <th></th>\n",
              "      <th>review</th>\n",
              "      <th>sentiment</th>\n",
              "    </tr>\n",
              "  </thead>\n",
              "  <tbody>\n",
              "    <tr>\n",
              "      <th>0</th>\n",
              "      <td>One of the other reviewers has mentioned that ...</td>\n",
              "      <td>positive</td>\n",
              "    </tr>\n",
              "    <tr>\n",
              "      <th>1</th>\n",
              "      <td>A wonderful little production. &lt;br /&gt;&lt;br /&gt;The...</td>\n",
              "      <td>positive</td>\n",
              "    </tr>\n",
              "    <tr>\n",
              "      <th>2</th>\n",
              "      <td>I thought this was a wonderful way to spend ti...</td>\n",
              "      <td>positive</td>\n",
              "    </tr>\n",
              "    <tr>\n",
              "      <th>3</th>\n",
              "      <td>Basically there's a family where a little boy ...</td>\n",
              "      <td>negative</td>\n",
              "    </tr>\n",
              "    <tr>\n",
              "      <th>4</th>\n",
              "      <td>Petter Mattei's \"Love in the Time of Money\" is...</td>\n",
              "      <td>positive</td>\n",
              "    </tr>\n",
              "  </tbody>\n",
              "</table>\n",
              "</div>"
            ],
            "text/plain": [
              "                                              review sentiment\n",
              "0  One of the other reviewers has mentioned that ...  positive\n",
              "1  A wonderful little production. <br /><br />The...  positive\n",
              "2  I thought this was a wonderful way to spend ti...  positive\n",
              "3  Basically there's a family where a little boy ...  negative\n",
              "4  Petter Mattei's \"Love in the Time of Money\" is...  positive"
            ]
          },
          "metadata": {
            "tags": []
          },
          "execution_count": 26
        }
      ]
    },
    {
      "cell_type": "code",
      "metadata": {
        "id": "aZ2PMueX-GAo",
        "colab": {
          "base_uri": "https://localhost:8080/"
        },
        "outputId": "bd684a68-bd0a-4df4-e32b-5dbe445dcc1e"
      },
      "source": [
        "train_df = train_df[10000:]\n",
        "train_df.shape"
      ],
      "execution_count": 27,
      "outputs": [
        {
          "output_type": "execute_result",
          "data": {
            "text/plain": [
              "(40000, 2)"
            ]
          },
          "metadata": {
            "tags": []
          },
          "execution_count": 27
        }
      ]
    },
    {
      "cell_type": "code",
      "metadata": {
        "id": "RvDjdgdt-GAq",
        "colab": {
          "base_uri": "https://localhost:8080/",
          "height": 221
        },
        "outputId": "f0bd5e25-f562-4f21-fd2c-189f5c81e517"
      },
      "source": [
        "# load the data\n",
        "test_df = pd.read_csv('/content/drive/MyDrive/Colab Notebooks/Contrastive Learning/imdb_eng_tests.csv')\n",
        "# data shape\n",
        "print(test_df.shape)\n",
        "test_df.head()"
      ],
      "execution_count": 28,
      "outputs": [
        {
          "output_type": "stream",
          "text": [
            "(10000, 3)\n"
          ],
          "name": "stdout"
        },
        {
          "output_type": "execute_result",
          "data": {
            "text/html": [
              "<div>\n",
              "<style scoped>\n",
              "    .dataframe tbody tr th:only-of-type {\n",
              "        vertical-align: middle;\n",
              "    }\n",
              "\n",
              "    .dataframe tbody tr th {\n",
              "        vertical-align: top;\n",
              "    }\n",
              "\n",
              "    .dataframe thead th {\n",
              "        text-align: right;\n",
              "    }\n",
              "</style>\n",
              "<table border=\"1\" class=\"dataframe\">\n",
              "  <thead>\n",
              "    <tr style=\"text-align: right;\">\n",
              "      <th></th>\n",
              "      <th>Unnamed: 0</th>\n",
              "      <th>review</th>\n",
              "      <th>sentiment</th>\n",
              "    </tr>\n",
              "  </thead>\n",
              "  <tbody>\n",
              "    <tr>\n",
              "      <th>0</th>\n",
              "      <td>0</td>\n",
              "      <td>One of the other reviewers has mentioned that ...</td>\n",
              "      <td>positive</td>\n",
              "    </tr>\n",
              "    <tr>\n",
              "      <th>1</th>\n",
              "      <td>1</td>\n",
              "      <td>A wonderful little production. &lt;br /&gt;&lt;br /&gt;The...</td>\n",
              "      <td>positive</td>\n",
              "    </tr>\n",
              "    <tr>\n",
              "      <th>2</th>\n",
              "      <td>2</td>\n",
              "      <td>I thought this was a wonderful way to spend ti...</td>\n",
              "      <td>positive</td>\n",
              "    </tr>\n",
              "    <tr>\n",
              "      <th>3</th>\n",
              "      <td>3</td>\n",
              "      <td>Basically there's a family where a little boy ...</td>\n",
              "      <td>negative</td>\n",
              "    </tr>\n",
              "    <tr>\n",
              "      <th>4</th>\n",
              "      <td>4</td>\n",
              "      <td>Petter Mattei's \"Love in the Time of Money\" is...</td>\n",
              "      <td>positive</td>\n",
              "    </tr>\n",
              "  </tbody>\n",
              "</table>\n",
              "</div>"
            ],
            "text/plain": [
              "   Unnamed: 0                                             review sentiment\n",
              "0           0  One of the other reviewers has mentioned that ...  positive\n",
              "1           1  A wonderful little production. <br /><br />The...  positive\n",
              "2           2  I thought this was a wonderful way to spend ti...  positive\n",
              "3           3  Basically there's a family where a little boy ...  negative\n",
              "4           4  Petter Mattei's \"Love in the Time of Money\" is...  positive"
            ]
          },
          "metadata": {
            "tags": []
          },
          "execution_count": 28
        }
      ]
    },
    {
      "cell_type": "code",
      "metadata": {
        "id": "G2NFoel7-GAr",
        "colab": {
          "base_uri": "https://localhost:8080/"
        },
        "outputId": "984b5002-ddbb-4720-d429-8651a2147547"
      },
      "source": [
        "test_df['sentiment'].value_counts()"
      ],
      "execution_count": 29,
      "outputs": [
        {
          "output_type": "execute_result",
          "data": {
            "text/plain": [
              "positive    5028\n",
              "negative    4972\n",
              "Name: sentiment, dtype: int64"
            ]
          },
          "metadata": {
            "tags": []
          },
          "execution_count": 29
        }
      ]
    },
    {
      "cell_type": "code",
      "metadata": {
        "id": "qICCM5Du-GAt"
      },
      "source": [
        "train_df['Class_Numeric'] = train_df['sentiment'].replace(['positive', 'negative'], [0,1])\n",
        "test_df['Class_Numeric'] = test_df['sentiment'].replace(['positive', 'negative'], [0,1])"
      ],
      "execution_count": 30,
      "outputs": []
    },
    {
      "cell_type": "code",
      "metadata": {
        "id": "Pm5Z6dd4-GAu"
      },
      "source": [
        "train_df.review=train_df.review.astype(str)\n",
        "test_df.review=test_df.review.astype(str)"
      ],
      "execution_count": 31,
      "outputs": []
    },
    {
      "cell_type": "code",
      "metadata": {
        "id": "U19a61uC-GAv",
        "colab": {
          "base_uri": "https://localhost:8080/"
        },
        "outputId": "fc96e53e-bb4b-4694-870e-a8e1655fd4f5"
      },
      "source": [
        "# tokenize training data\n",
        "\n",
        "from keras.preprocessing.text import Tokenizer\n",
        "from keras.preprocessing.sequence import pad_sequences\n",
        "import numpy as np\n",
        "maxlen = 200\n",
        "max_words = 10000\n",
        "tokenizer = Tokenizer(num_words=max_words)\n",
        "tokenizer.fit_on_texts(train_df['review'])\n",
        "sequences = tokenizer.texts_to_sequences(train_df['review'])\n",
        "word_index = tokenizer.word_index\n",
        "print('Found %s unique tokens.' % len(word_index))\n",
        "train_data = pad_sequences(sequences, maxlen=maxlen)\n",
        "def to_one_hot(labels, dimension=2):\n",
        "    results = np.zeros((len(labels), dimension))\n",
        "    for i, label in enumerate(labels):\n",
        "        results[i, label] = 1.\n",
        "    return results\n",
        "one_hot_labels = to_one_hot(train_df['Class_Numeric'])\n",
        "labels = np.asarray(one_hot_labels)\n",
        "print('Shape of data tensor:', train_data.shape)\n",
        "print('Shape of label tensor:', labels.shape)\n",
        "indices = np.arange(train_data.shape[0])\n",
        "np.random.shuffle(indices)\n",
        "\n",
        "X_train = train_data[indices]\n",
        "y_train = labels[indices]"
      ],
      "execution_count": 32,
      "outputs": [
        {
          "output_type": "stream",
          "text": [
            "Found 112127 unique tokens.\n",
            "Shape of data tensor: (40000, 200)\n",
            "Shape of label tensor: (40000, 2)\n"
          ],
          "name": "stdout"
        }
      ]
    },
    {
      "cell_type": "code",
      "metadata": {
        "id": "rHChh99r-GAy",
        "colab": {
          "base_uri": "https://localhost:8080/"
        },
        "outputId": "76a7f560-3140-4443-e40b-77317c6d347e"
      },
      "source": [
        "# test data\n",
        "test_sequences = tokenizer.texts_to_sequences(test_df['review'])\n",
        "X_test = pad_sequences(test_sequences, maxlen=maxlen)\n",
        "def to_one_hot(labels, dimension=2):\n",
        "    results = np.zeros((len(labels), dimension))\n",
        "    for i, label in enumerate(labels):\n",
        "        results[i, label] = 1.\n",
        "    return results\n",
        "one_hot_labels = to_one_hot(test_df['Class_Numeric'])\n",
        "y_test = np.asarray(one_hot_labels)\n",
        "print('Shape of data tensor:', X_test.shape)\n",
        "print('Shape of label tensor:', y_test.shape)"
      ],
      "execution_count": 33,
      "outputs": [
        {
          "output_type": "stream",
          "text": [
            "Shape of data tensor: (10000, 200)\n",
            "Shape of label tensor: (10000, 2)\n"
          ],
          "name": "stdout"
        }
      ]
    },
    {
      "cell_type": "code",
      "metadata": {
        "id": "hvXLy5de-GAz",
        "colab": {
          "base_uri": "https://localhost:8080/"
        },
        "outputId": "a3794fdd-5a1d-4e98-b325-9ff5dd080c47"
      },
      "source": [
        "from keras.models import Sequential\n",
        "from keras.layers import Embedding, Flatten, Dense, Dropout\n",
        "from keras.layers import Embedding, LSTM,  Bidirectional\n",
        "from keras import regularizers\n",
        "\n",
        "\n",
        "model = Sequential()\n",
        "model.add(Embedding(509963, 64))\n",
        "model.add(Bidirectional(LSTM(32,dropout=0.2,\n",
        "recurrent_dropout=0.2)))\n",
        "model.add(Dense(2, activation='softmax'))\n",
        "model.summary()"
      ],
      "execution_count": 34,
      "outputs": [
        {
          "output_type": "stream",
          "text": [
            "Model: \"sequential_4\"\n",
            "_________________________________________________________________\n",
            "Layer (type)                 Output Shape              Param #   \n",
            "=================================================================\n",
            "embedding_1 (Embedding)      (None, None, 64)          32637632  \n",
            "_________________________________________________________________\n",
            "bidirectional_1 (Bidirection (None, 64)                24832     \n",
            "_________________________________________________________________\n",
            "dense_1 (Dense)              (None, 2)                 130       \n",
            "=================================================================\n",
            "Total params: 32,662,594\n",
            "Trainable params: 32,662,594\n",
            "Non-trainable params: 0\n",
            "_________________________________________________________________\n"
          ],
          "name": "stdout"
        }
      ]
    },
    {
      "cell_type": "code",
      "metadata": {
        "id": "fY4wJwUm-GA2",
        "colab": {
          "base_uri": "https://localhost:8080/"
        },
        "outputId": "1be20f7c-357e-413a-a85e-7916109b68ac"
      },
      "source": [
        "model.compile(optimizer='adam',\n",
        "loss='categorical_crossentropy',\n",
        "metrics=['acc'])\n",
        "history = model.fit(X_train, y_train,\n",
        "epochs=10,\n",
        "batch_size=64)"
      ],
      "execution_count": 35,
      "outputs": [
        {
          "output_type": "stream",
          "text": [
            "Epoch 1/10\n",
            "625/625 [==============================] - 430s 682ms/step - loss: 0.4762 - acc: 0.7449\n",
            "Epoch 2/10\n",
            "625/625 [==============================] - 424s 679ms/step - loss: 0.2187 - acc: 0.9150\n",
            "Epoch 3/10\n",
            "625/625 [==============================] - 418s 669ms/step - loss: 0.1748 - acc: 0.9355\n",
            "Epoch 4/10\n",
            "625/625 [==============================] - 419s 671ms/step - loss: 0.1370 - acc: 0.9493\n",
            "Epoch 5/10\n",
            "625/625 [==============================] - 425s 681ms/step - loss: 0.1147 - acc: 0.9580\n",
            "Epoch 6/10\n",
            "625/625 [==============================] - 419s 671ms/step - loss: 0.0890 - acc: 0.9694\n",
            "Epoch 7/10\n",
            "625/625 [==============================] - 418s 669ms/step - loss: 0.0704 - acc: 0.9756\n",
            "Epoch 8/10\n",
            "625/625 [==============================] - 415s 665ms/step - loss: 0.0643 - acc: 0.9783\n",
            "Epoch 9/10\n",
            "625/625 [==============================] - 416s 666ms/step - loss: 0.0419 - acc: 0.9865\n",
            "Epoch 10/10\n",
            "625/625 [==============================] - 417s 668ms/step - loss: 0.0395 - acc: 0.9873\n"
          ],
          "name": "stdout"
        }
      ]
    },
    {
      "cell_type": "code",
      "metadata": {
        "id": "hZt67r-h-GA3",
        "colab": {
          "base_uri": "https://localhost:8080/"
        },
        "outputId": "eba605b5-6663-42b0-9b4c-f5196bb9e015"
      },
      "source": [
        "model.evaluate(X_test, y_test)"
      ],
      "execution_count": 36,
      "outputs": [
        {
          "output_type": "stream",
          "text": [
            "313/313 [==============================] - 12s 36ms/step - loss: 0.5222 - acc: 0.8736\n"
          ],
          "name": "stdout"
        },
        {
          "output_type": "execute_result",
          "data": {
            "text/plain": [
              "[0.5222089886665344, 0.8736000061035156]"
            ]
          },
          "metadata": {
            "tags": []
          },
          "execution_count": 36
        }
      ]
    },
    {
      "cell_type": "code",
      "metadata": {
        "id": "puk_8aGw-GA4",
        "colab": {
          "base_uri": "https://localhost:8080/"
        },
        "outputId": "485719e3-a54e-4454-da2f-9bb073761a9d"
      },
      "source": [
        "predictions = model.predict(X_test)\n",
        "\n",
        "from sklearn.metrics import classification_report\n",
        "print(classification_report(y_test.argmax(axis=1), predictions.argmax(axis=1)))"
      ],
      "execution_count": 37,
      "outputs": [
        {
          "output_type": "stream",
          "text": [
            "              precision    recall  f1-score   support\n",
            "\n",
            "           0       0.86      0.89      0.88      5028\n",
            "           1       0.88      0.86      0.87      4972\n",
            "\n",
            "    accuracy                           0.87     10000\n",
            "   macro avg       0.87      0.87      0.87     10000\n",
            "weighted avg       0.87      0.87      0.87     10000\n",
            "\n"
          ],
          "name": "stdout"
        }
      ]
    },
    {
      "cell_type": "code",
      "metadata": {
        "id": "ymGbVz0Q-GA6",
        "colab": {
          "base_uri": "https://localhost:8080/",
          "height": 683
        },
        "outputId": "ba93c1b8-bfa9-4cbb-bb5b-cdee2bef8e20"
      },
      "source": [
        "from sklearn.metrics import confusion_matrix\n",
        "from mlxtend.plotting import plot_confusion_matrix\n",
        "\n",
        "labels = ['positive', 'negative']\n",
        "\n",
        "\n",
        "cm = confusion_matrix(y_test.argmax(axis=1), predictions.argmax(axis=1))\n",
        "print(cm)\n",
        "fig, ax = plot_confusion_matrix(conf_mat = cm)\n",
        "plt.title('Confusion Matrix Dataset 1 (Test Set: 20%)')\n",
        "fig.set_size_inches(10,10)\n",
        "ax.set_xticklabels([''] + labels)\n",
        "ax.set_yticklabels([''] + labels)\n",
        "plt.xlabel('Predicted')\n",
        "plt.ylabel('Actual')\n",
        "plt.show()"
      ],
      "execution_count": 38,
      "outputs": [
        {
          "output_type": "stream",
          "text": [
            "[[4470  558]\n",
            " [ 706 4266]]\n"
          ],
          "name": "stdout"
        },
        {
          "output_type": "display_data",
          "data": {
            "image/png": "[encoded data removed]",
            "text/plain": [
              "<Figure size 720x720 with 1 Axes>"
            ]
          },
          "metadata": {
            "tags": [],
            "needs_background": "light"
          }
        }
      ]
    },
    {
      "cell_type": "code",
      "metadata": {
        "id": "dMBrQcnatuyb"
      },
      "source": [
        ""
      ],
      "execution_count": 39,
      "outputs": []
    }
  ]
}